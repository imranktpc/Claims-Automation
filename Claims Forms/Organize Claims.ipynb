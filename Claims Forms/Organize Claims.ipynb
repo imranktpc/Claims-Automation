{
 "cells": [
  {
   "cell_type": "code",
   "execution_count": 1,
   "id": "a07329a1",
   "metadata": {},
   "outputs": [
    {
     "name": "stdout",
     "output_type": "stream",
     "text": [
      "No known insurance found in the filename 06 07 - 06 11 2024 Para Claim EaHa PHCS network K07234028.pdf.\n"
     ]
    }
   ],
   "source": [
    "import os\n",
    "import shutil\n",
    "\n",
    "def organize_pdfs_by_insurance(directory):\n",
    "    known_insurances = [\n",
    "    \"1199\", \"Aetna\", \"Affinity\", \"Allegiance\", \"Allied\", \"Ambetter\", \"Ameriben\", \"Anderson\", \"Aultcare\", \"BAS\", \n",
    "    \"Baystate Health\", \"BCBS\", \"BCBS AL\", \"BCBS Alliance\", \"BCBS Anthem\", \"BCBS AR\", \"BCBS AZ\", \"BCBS CA\", \n",
    "    \"BCBS Carefirst\", \"BCBS Credence\", \"BCBS Federal\", \"BCBS FL\", \"BCBS GA\", \"BCBS Highmark\", \"BCBS Horizon\", \n",
    "    \"BCBS IBX\", \"BCBS IL\", \"BCBS KC\", \"BCBS KS\", \"BCBS LA\", \"BCBS Local 252\", \"BCBS MA\", \"BCBS MI\", \"BCBS MN\", \n",
    "    \"BCBS MO\", \"BCBS MS\", \"BCBS NC\", \"BCBS ND\", \"BCBS NE\", \"BCBS NH\", \"BCBS NMU\", \"BCBS OK\", \"BCBS PA\", \n",
    "    \"BCBS Premera\", \"BCBS Regence\", \"BCBS RI\", \"BCBS SC\", \"BCBS TN\", \"BCBS TX\", \"BCBS UHH\", \"BCBS VT\", \n",
    "    \"BCBS Wellmark\", \"Beacon\", \"Benefit Management Inc.\", \"Bind\", \"BlueAdvantage Administration of Arkansas\", \n",
    "    \"Boon-Chapman\", \"Caresource\", \"Central California Alliance for Health\", \"Champ VA\", \"Cigna\", \"Cigna Prominence\", \n",
    "    \"ComPsych\", \"Empire BCBS\", \"First Health Network\", \"GEHA\", \"GPA\", \"Harvard Pilgrim\", \"Health Alliance\", \n",
    "    \"HealthChoice IL\", \"Healthgram\", \"Healthlink\", \"Healthscope\", \"Here4TN\", \"imagine360\", \"Kaiser\", \"Laborers\", \n",
    "    \"Lucent Health\", \"Luminare Health\", \"Maestro Health\", \"Magnacare\", \"Mass General Brigham\", \"Med-Pay\", \"MedBen\", \n",
    "    \"Mercy Care\", \"Meritain Health\", \"Molina\", \"NALC Health Benefit Plan\", \"NYSHIP\", \"OhioHealth\", \"Out of Pocket\", \n",
    "    \"Philadelphia American Life\", \"Quantum Health\", \"SAS\", \"TUFTS\", \"UHC\", \"UHC All Savers\", \"UHC Optum\", \n",
    "    \"UHC Oxford\", \"UHC Surest\", \"UMR\", \"UMWA\", \"Viva Health\", \"WebTPA\", \"Western Health Advantage\", \"BCBS MT\", \n",
    "    \"BCBS Smarthealth\", \"Healthcomp\", \"BCBS Excellus\", \"Companion\", \"Medical Mutual\", \"SMACNA\", \"Optum\", \n",
    "    \"PHCS Network\", \"Prominence Health Plan\", \"Multiplan\", \"Key Benefit\", \"Health Plan Incorporated\", \n",
    "    \"BCBS TN Optum\", \"Here4TN Optum\", \"Aetna Optum\", \"BRMS\", \"Unified Group Services\", \"Alliance Health and Life\", \n",
    "    \"Gravie\", \"PEHP\"\n",
    "    ]\n",
    "\n",
    "    known_insurances.sort(key=len, reverse=True)\n",
    "    if not os.path.exists(directory):\n",
    "        print(f\"Directory {directory} does not exist.\")\n",
    "        return\n",
    "    for filename in os.listdir(directory):\n",
    "        if filename.endswith('.pdf'):\n",
    "            insurance_name = None\n",
    "            for insurance in known_insurances:\n",
    "                if insurance in filename:\n",
    "                    insurance_name = insurance\n",
    "                    break\n",
    "            if insurance_name is None:\n",
    "                print(f\"No known insurance found in the filename {filename}.\")\n",
    "                continue\n",
    "            insurance_dir = os.path.join(directory, insurance_name.replace(' ', '_'))\n",
    "            if not os.path.exists(insurance_dir):\n",
    "                os.makedirs(insurance_dir)\n",
    "            shutil.move(os.path.join(directory, filename), os.path.join(insurance_dir, filename))\n",
    "\n",
    "# Set the path to your directory\n",
    "directory_path = r'G:\\My Drive\\Filled Claim Forms'\n",
    "organize_pdfs_by_insurance(directory_path)\n"
   ]
  },
  {
   "cell_type": "code",
   "execution_count": 2,
   "id": "00713a1f",
   "metadata": {},
   "outputs": [
    {
     "name": "stdout",
     "output_type": "stream",
     "text": [
      "Number of PDF files in the directory and its subdirectories: 825\n"
     ]
    }
   ],
   "source": [
    "import os\n",
    "\n",
    "def count_pdf_files(directory):\n",
    "    pdf_count = 0\n",
    "    for root, dirs, files in os.walk(directory):\n",
    "        for filename in files:\n",
    "            if filename.endswith('.pdf'):\n",
    "                pdf_count += 1\n",
    "    return pdf_count\n",
    "\n",
    "directory = r'G:\\My Drive\\Filled Claim Forms'\n",
    "pdf_count = count_pdf_files(directory)\n",
    "print(\"Number of PDF files in the directory and its subdirectories:\", pdf_count)\n"
   ]
  },
  {
   "cell_type": "code",
   "execution_count": null,
   "id": "fe530114",
   "metadata": {},
   "outputs": [],
   "source": []
  },
  {
   "cell_type": "code",
   "execution_count": null,
   "id": "9cb1796f",
   "metadata": {},
   "outputs": [],
   "source": []
  }
 ],
 "metadata": {
  "kernelspec": {
   "display_name": "Python 3 (ipykernel)",
   "language": "python",
   "name": "python3"
  },
  "language_info": {
   "codemirror_mode": {
    "name": "ipython",
    "version": 3
   },
   "file_extension": ".py",
   "mimetype": "text/x-python",
   "name": "python",
   "nbconvert_exporter": "python",
   "pygments_lexer": "ipython3",
   "version": "3.11.5"
  }
 },
 "nbformat": 4,
 "nbformat_minor": 5
}
